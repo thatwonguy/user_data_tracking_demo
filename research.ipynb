{
 "cells": [
  {
   "cell_type": "markdown",
   "metadata": {},
   "source": [
    "## With the app.py and templates/index.html file, we know we are collecting the data from user interactions on our website. We can dissect the code and see that a database named 'usage_data.db' and the table inside this database is called 'user_usage'.\n"
   ]
  },
  {
   "cell_type": "code",
   "execution_count": null,
   "metadata": {},
   "outputs": [],
   "source": [
    "import sqlite3\n",
    "\n",
    "\n",
    "# this will allow you to query the data that is collected\n",
    "with sqlite3.connect('usage_data.db') as conn:\n",
    "    c = conn.cursor()\n",
    "    c.execute('SELECT * FROM user_usage')\n",
    "    data = c.fetchall()\n",
    "    for row in data:\n",
    "        print(row)"
   ]
  },
  {
   "cell_type": "markdown",
   "metadata": {},
   "source": [
    "## If you created a table in sqlite with specified columns and the table already exists now and you try to update the table with new columns you will get an error. For this reason we delete the entire table since we are in a development phase and re-create the table desired columns we want"
   ]
  },
  {
   "cell_type": "code",
   "execution_count": 1,
   "metadata": {},
   "outputs": [
    {
     "name": "stdout",
     "output_type": "stream",
     "text": [
      "Database file deleted successfully.\n"
     ]
    }
   ],
   "source": [
    "import sqlite3\n",
    "\n",
    "# Connect to the SQLite database\n",
    "conn = sqlite3.connect('usage_data.db')\n",
    "\n",
    "# Create a cursor object\n",
    "cursor = conn.cursor()\n",
    "\n",
    "# Execute some operations\n",
    "# ...\n",
    "\n",
    "# Commit changes\n",
    "conn.commit()\n",
    "\n",
    "# Close the cursor and connection\n",
    "cursor.close()\n",
    "conn.close()\n",
    "\n",
    "# Now try to delete the database file\n",
    "import os\n",
    "try:\n",
    "    os.remove('usage_data.db')\n",
    "    print(\"Database file deleted successfully.\")\n",
    "except OSError as e:\n",
    "    print(f\"Error: {e.strerror}\")"
   ]
  },
  {
   "cell_type": "code",
   "execution_count": 2,
   "metadata": {},
   "outputs": [
    {
     "name": "stdout",
     "output_type": "stream",
     "text": [
      "Database file deleted successfully.\n"
     ]
    }
   ],
   "source": [
    "import sqlite3\n",
    "\n",
    "# Connect to the SQLite database\n",
    "conn = sqlite3.connect('example.db')\n",
    "\n",
    "# Create a cursor object\n",
    "cursor = conn.cursor()\n",
    "\n",
    "# Run the VACUUM command\n",
    "cursor.execute(\"VACUUM\")\n",
    "\n",
    "# Commit changes\n",
    "conn.commit()\n",
    "\n",
    "# Close the cursor and connection\n",
    "cursor.close()\n",
    "conn.close()\n",
    "\n",
    "# Now try to delete the database file\n",
    "import os\n",
    "try:\n",
    "    os.remove('example.db')\n",
    "    print(\"Database file deleted successfully.\")\n",
    "except OSError as e:\n",
    "    print(f\"Error: {e.strerror}\")\n"
   ]
  },
  {
   "cell_type": "markdown",
   "metadata": {},
   "source": [
    "## Below code allows you to bring in the data from all the user interactions that your website is collecting"
   ]
  },
  {
   "cell_type": "code",
   "execution_count": 10,
   "metadata": {},
   "outputs": [],
   "source": [
    "import pandas as pd\n",
    "\n",
    "pd.set_option('display.max_colwidth', None)"
   ]
  },
  {
   "cell_type": "code",
   "execution_count": null,
   "metadata": {},
   "outputs": [],
   "source": [
    "conn = sqlite3.connect('usage_data.db')\n",
    "\n",
    "query = '''\n",
    "        SELECT * FROM user_usage\n",
    "        '''\n",
    "\n",
    "df = pd.read_sql_query(query, conn)\n",
    "df.head()"
   ]
  }
 ],
 "metadata": {
  "kernelspec": {
   "display_name": "venv",
   "language": "python",
   "name": "python3"
  },
  "language_info": {
   "codemirror_mode": {
    "name": "ipython",
    "version": 3
   },
   "file_extension": ".py",
   "mimetype": "text/x-python",
   "name": "python",
   "nbconvert_exporter": "python",
   "pygments_lexer": "ipython3",
   "version": "3.12.3"
  }
 },
 "nbformat": 4,
 "nbformat_minor": 2
}
