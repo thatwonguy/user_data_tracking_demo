{
 "cells": [
  {
   "cell_type": "code",
   "execution_count": 1,
   "metadata": {},
   "outputs": [
    {
     "name": "stdout",
     "output_type": "stream",
     "text": [
      "(1, 'user123', 'page_view', '/', '2024-05-18 01:42:15')\n",
      "(2, 'user123', 'click', 'Element: HTML, ID: ', '2024-05-18 01:42:21')\n",
      "(3, 'user123', 'click', 'Element: HTML, ID: ', '2024-05-18 01:42:21')\n",
      "(4, 'user123', 'click', 'Element: HTML, ID: ', '2024-05-18 01:42:22')\n",
      "(5, 'user123', 'click', 'Element: H1, ID: ', '2024-05-18 01:42:23')\n",
      "(6, 'user123', 'click', 'Element: HTML, ID: ', '2024-05-18 01:42:24')\n",
      "(7, 'user123', 'click', 'Element: HTML, ID: ', '2024-05-18 01:42:25')\n",
      "(8, 'user123', 'click', 'Element: BODY, ID: ', '2024-05-18 01:42:26')\n"
     ]
    }
   ],
   "source": [
    "import sqlite3\n",
    "\n",
    "\n",
    "# this will allow you to query the data that is collected\n",
    "with sqlite3.connect('usage_data.db') as conn:\n",
    "    c = conn.cursor()\n",
    "    c.execute('SELECT * FROM user_usage')\n",
    "    data = c.fetchall()\n",
    "    for row in data:\n",
    "        print(row)\n"
   ]
  },
  {
   "cell_type": "markdown",
   "metadata": {},
   "source": [
    "## If you created a table in sqlite with specified columns and the table already exists now and you try to update the table with new columns you will get an error. For this reason we delete the entire table since we are in a development phase and re-create the table desired columns we want"
   ]
  },
  {
   "cell_type": "code",
   "execution_count": 4,
   "metadata": {},
   "outputs": [
    {
     "name": "stdout",
     "output_type": "stream",
     "text": [
      "Error: The process cannot access the file because it is being used by another process\n"
     ]
    }
   ],
   "source": [
    "import sqlite3\n",
    "\n",
    "# Connect to the SQLite database\n",
    "conn = sqlite3.connect('usage_data.db')\n",
    "\n",
    "# Create a cursor object\n",
    "cursor = conn.cursor()\n",
    "\n",
    "# Execute some operations\n",
    "# ...\n",
    "\n",
    "# Commit changes\n",
    "conn.commit()\n",
    "\n",
    "# Close the cursor and connection\n",
    "cursor.close()\n",
    "conn.close()\n",
    "\n",
    "# Now try to delete the database file\n",
    "import os\n",
    "try:\n",
    "    os.remove('usage_data.db')\n",
    "    print(\"Database file deleted successfully.\")\n",
    "except OSError as e:\n",
    "    print(f\"Error: {e.strerror}\")"
   ]
  },
  {
   "cell_type": "code",
   "execution_count": 5,
   "metadata": {},
   "outputs": [
    {
     "name": "stdout",
     "output_type": "stream",
     "text": [
      "Database file deleted successfully.\n"
     ]
    }
   ],
   "source": [
    "import sqlite3\n",
    "\n",
    "# Connect to the SQLite database\n",
    "conn = sqlite3.connect('example.db')\n",
    "\n",
    "# Create a cursor object\n",
    "cursor = conn.cursor()\n",
    "\n",
    "# Run the VACUUM command\n",
    "cursor.execute(\"VACUUM\")\n",
    "\n",
    "# Commit changes\n",
    "conn.commit()\n",
    "\n",
    "# Close the cursor and connection\n",
    "cursor.close()\n",
    "conn.close()\n",
    "\n",
    "# Now try to delete the database file\n",
    "import os\n",
    "try:\n",
    "    os.remove('example.db')\n",
    "    print(\"Database file deleted successfully.\")\n",
    "except OSError as e:\n",
    "    print(f\"Error: {e.strerror}\")\n"
   ]
  }
 ],
 "metadata": {
  "kernelspec": {
   "display_name": "venv",
   "language": "python",
   "name": "python3"
  },
  "language_info": {
   "codemirror_mode": {
    "name": "ipython",
    "version": 3
   },
   "file_extension": ".py",
   "mimetype": "text/x-python",
   "name": "python",
   "nbconvert_exporter": "python",
   "pygments_lexer": "ipython3",
   "version": "3.12.3"
  }
 },
 "nbformat": 4,
 "nbformat_minor": 2
}
